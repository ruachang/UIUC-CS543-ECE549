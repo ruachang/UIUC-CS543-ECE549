{
 "cells": [
  {
   "cell_type": "markdown",
   "metadata": {},
   "source": [
    "# Image Stitching (Python)\n",
    "\n",
    "## Usage\n",
    "This code snippet provides an overall code structure and some interactive plot interfaces for the Stitching Pairs of Images section of MP 3. In main function, we outline the required functionalities step by step. Feel free to make modifications on the starter code if it's necessary.\n",
    "\n",
    "## Package installation\n",
    "- `opencv`\n",
    "- `numpy`\n",
    "- `skimage`\n",
    "- `scipy`"
   ]
  },
  {
   "cell_type": "markdown",
   "metadata": {},
   "source": [
    "# Common imports"
   ]
  },
  {
   "cell_type": "code",
   "execution_count": null,
   "metadata": {},
   "outputs": [],
   "source": [
    "import numpy as np\n",
    "import skimage\n",
    "import cv2\n",
    "import matplotlib.pyplot as plt\n",
    "from scipy.spatial import distance\n",
    "import scipy"
   ]
  },
  {
   "cell_type": "markdown",
   "metadata": {},
   "source": [
    "# Helper functions"
   ]
  },
  {
   "cell_type": "code",
   "execution_count": null,
   "metadata": {},
   "outputs": [],
   "source": [
    "def imread(fname):\n",
    "    \"\"\"\n",
    "    read image into np array from file\n",
    "    \"\"\"\n",
    "    return skimage.io.imread(fname)\n",
    "\n",
    "def imread_bw(fname):\n",
    "    \"\"\"\n",
    "    read image as gray scale format\n",
    "    \"\"\"\n",
    "    return cv2.cvtColor(imread(fname), cv2.COLOR_BGR2GRAY)\n",
    "\n",
    "def imshow(img):\n",
    "    \"\"\"\n",
    "    show image\n",
    "    \"\"\"\n",
    "    skimage.io.imshow(img)\n",
    "    \n",
    "def get_sift_data(img):\n",
    "    \"\"\"\n",
    "    detect the keypoints and compute their SIFT descriptors with opencv library\n",
    "    \"\"\"\n",
    "    sift = cv2.SIFT_create()\n",
    "    kp, des = sift.detectAndCompute(img, None)\n",
    "    return kp, des\n",
    "\n",
    "def plot_inlier_matches(ax, img1, img2, inliers):\n",
    "    \"\"\"\n",
    "    plot the match between two image according to the matched keypoints\n",
    "    :param ax: plot handle\n",
    "    :param img1: left image\n",
    "    :param img2: right image\n",
    "    :inliers: x,y in the first image and x,y in the second image (Nx4)\n",
    "    \"\"\"\n",
    "    res = np.hstack([img1, img2])\n",
    "    ax.set_aspect('equal')\n",
    "    ax.imshow(res, cmap='gray')\n",
    "    \n",
    "    ax.plot(inliers[:,0], inliers[:,1], '+r')\n",
    "    ax.plot(inliers[:,2] + img1.shape[1], inliers[:,3], '+r')\n",
    "    ax.plot([inliers[:,0], inliers[:,2] + img1.shape[1]],\n",
    "            [inliers[:,1], inliers[:,3]], 'r', linewidth=0.4)\n",
    "    ax.axis('off')"
   ]
  },
  {
   "cell_type": "markdown",
   "metadata": {},
   "source": [
    "# Your implementations"
   ]
  },
  {
   "cell_type": "code",
   "execution_count": null,
   "metadata": {},
   "outputs": [],
   "source": [
    "def get_best_matches(img1, img2, num_matches):\n",
    "    kp1, des1 = get_sift_data(img1)\n",
    "    kp2, des2 = get_sift_data(img2)\n",
    "    kp1, kp2 = np.array(kp1), np.array(kp2)\n",
    "    \n",
    "    # Find distance between descriptors in images\n",
    "    dist = scipy.spatial.distance.cdist(des1, des2, 'sqeuclidean')\n",
    "    \n",
    "    # Write your code to get the matches according to dist\n",
    "    # <YOUR CODE>\n",
    "    pass\n",
    "\n",
    "def ransac(...):\n",
    "    \"\"\"\n",
    "    write your ransac code to find the best model, inliers, and residuals\n",
    "    \"\"\"\n",
    "    # <YOUR CODE>\n",
    "    pass\n",
    "\n",
    "def compute_homography(...):\n",
    "    \"\"\"\n",
    "    write your code to compute homography according to the matches\n",
    "    \"\"\"\n",
    "    # <YOUR CODE>\n",
    "    pass\n",
    "\n",
    "def warp_images(...):\n",
    "    \"\"\"\n",
    "    write your code to stitch images together according to the homography\n",
    "    \"\"\"\n",
    "    # <YOUR CODE>\n",
    "    pass"
   ]
  },
  {
   "cell_type": "markdown",
   "metadata": {},
   "source": [
    "# Main functions"
   ]
  },
  {
   "cell_type": "markdown",
   "metadata": {},
   "source": [
    "#### Load images"
   ]
  },
  {
   "cell_type": "code",
   "execution_count": null,
   "metadata": {},
   "outputs": [],
   "source": [
    "img1 = imread('./stitch/left.jpg')\n",
    "img2 = imread('./stitch/right.jpg')"
   ]
  },
  {
   "cell_type": "markdown",
   "metadata": {},
   "source": [
    "#### Part (3) compute and display the initial SIFT matching result"
   ]
  },
  {
   "cell_type": "code",
   "execution_count": null,
   "metadata": {},
   "outputs": [],
   "source": [
    "data = get_best_matches(img1, img2, 300)\n",
    "fig, ax = plt.subplots(figsize=(20,10))\n",
    "plot_inlier_matches(ax, img1, img2, data)\n",
    "fig.savefig('sift_match.pdf', bbox_inches='tight')"
   ]
  },
  {
   "cell_type": "markdown",
   "metadata": {},
   "source": [
    "#### Part (4) performn RANSAC to get the homography and inliers"
   ]
  },
  {
   "cell_type": "code",
   "execution_count": null,
   "metadata": {},
   "outputs": [],
   "source": [
    "# display the inlier matching, report the average residual\n",
    "# <YOUR CODE>\n",
    "# print(\"Average residual:\", np.average(best_model_errors))\n",
    "# print(\"Inliers:\", max_inliers)\n",
    "# fig.savefig('ransac_match.pdf', bbox_inches='tight')"
   ]
  },
  {
   "cell_type": "markdown",
   "metadata": {},
   "source": [
    "#### Part (5) warp images to stitch them together"
   ]
  },
  {
   "cell_type": "code",
   "execution_count": null,
   "metadata": {},
   "outputs": [],
   "source": [
    "# display and report the stitching results\n",
    "# <YOUR CODE>\n",
    "# cv2.imwrite('stitched_images.jpg', im[:,:,::-1]*255., \n",
    "#             [int(cv2.IMWRITE_JPEG_QUALITY), 90])"
   ]
  }
 ],
 "metadata": {
  "kernelspec": {
   "display_name": "Python 3",
   "language": "python",
   "name": "python3"
  },
  "language_info": {
   "codemirror_mode": {
    "name": "ipython",
    "version": 3
   },
   "file_extension": ".py",
   "mimetype": "text/x-python",
   "name": "python",
   "nbconvert_exporter": "python",
   "pygments_lexer": "ipython3",
   "version": "3.7.3"
  }
 },
 "nbformat": 4,
 "nbformat_minor": 4
}
