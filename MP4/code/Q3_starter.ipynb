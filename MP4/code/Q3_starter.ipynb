{
 "cells": [
  {
   "cell_type": "markdown",
   "metadata": {},
   "source": [
    "# Single-View Geometry (Python)\n",
    "\n",
    "## Usage\n",
    "This code snippet provides an overall code structure and some interactive plot interfaces for the *Single-View Geometry* section of Assignment 3. In [main function](#Main-function), we outline the required functionalities step by step. Some of the functions which involves interactive plots are already provided, but [the rest](#Your-implementation) are left for you to implement.\n",
    "\n",
    "## Package installation\n",
    "- You will need [GUI backend](https://matplotlib.org/faq/usage_faq.html#what-is-a-backend) to enable interactive plots in `matplotlib`.\n",
    "- In this code, we use `tkinter` package. Installation instruction can be found [here](https://anaconda.org/anaconda/tk)."
   ]
  },
  {
   "cell_type": "markdown",
   "metadata": {},
   "source": [
    "# Common imports"
   ]
  },
  {
   "cell_type": "code",
   "execution_count": 3,
   "metadata": {},
   "outputs": [],
   "source": [
    "import matplotlib.pyplot as plt\n",
    "import numpy as np\n",
    "import cv2\n",
    "import os\n",
    "\n",
    "from PIL import Image\n",
    "import pickle"
   ]
  },
  {
   "cell_type": "code",
   "execution_count": 4,
   "metadata": {},
   "outputs": [],
   "source": [
    "%matplotlib tk"
   ]
  },
  {
   "cell_type": "markdown",
   "metadata": {},
   "source": [
    "# Provided functions"
   ]
  },
  {
   "cell_type": "code",
   "execution_count": 4,
   "metadata": {},
   "outputs": [],
   "source": [
    "def get_input_lines(im, min_lines=3):\n",
    "    \"\"\"\n",
    "    Allows user to input line segments; computes centers and directions.\n",
    "    Inputs:\n",
    "        im: np.ndarray of shape (height, width, 3)\n",
    "        min_lines: minimum number of lines required\n",
    "    Returns:\n",
    "        n: number of lines from input\n",
    "        lines: np.ndarray of shape (3, n)\n",
    "            where each column denotes the parameters of the line equation\n",
    "        centers: np.ndarray of shape (3, n)\n",
    "            where each column denotes the homogeneous coordinates of the centers\n",
    "    \"\"\"\n",
    "    n = 0\n",
    "    lines = np.zeros((3, 0))\n",
    "    centers = np.zeros((3, 0))\n",
    "\n",
    "    plt.figure()\n",
    "    plt.axis('off')\n",
    "    plt.imshow(im)\n",
    "    print(f'Set at least {min_lines} lines to compute vanishing point')\n",
    "    print(f'The delete and backspace keys act like right clicking')\n",
    "    print(f'The enter key acts like middle clicking')\n",
    "    while True:\n",
    "        print('Click the two endpoints, use the right button (delete and backspace keys) to undo, and use the middle button to stop input')\n",
    "        clicked = plt.ginput(2, timeout=0, show_clicks=True)\n",
    "        if not clicked or len(clicked) < 2:\n",
    "            if n < min_lines:\n",
    "                print(f'Need at least {min_lines} lines, you have {n} now')\n",
    "                continue\n",
    "            else:\n",
    "                # Stop getting lines if number of lines is enough\n",
    "                break\n",
    "\n",
    "        # Unpack user inputs and save as homogeneous coordinates\n",
    "        pt1 = np.array([clicked[0][0], clicked[0][1], 1])\n",
    "        pt2 = np.array([clicked[1][0], clicked[1][1], 1])\n",
    "        # Get line equation using cross product\n",
    "        # Line equation: line[0] * x + line[1] * y + line[2] = 0\n",
    "        line = np.cross(pt1, pt2)\n",
    "        lines = np.append(lines, line.reshape((3, 1)), axis=1)\n",
    "        # Get center coordinate of the line segment\n",
    "        center = (pt1 + pt2) / 2\n",
    "        centers = np.append(centers, center.reshape((3, 1)), axis=1)\n",
    "\n",
    "        # Plot line segment\n",
    "        plt.plot([pt1[0], pt2[0]], [pt1[1], pt2[1]], color='b')\n",
    "\n",
    "        n += 1\n",
    "\n",
    "    return n, lines, centers"
   ]
  },
  {
   "cell_type": "code",
   "execution_count": 40,
   "metadata": {},
   "outputs": [],
   "source": [
    "def plot_lines_and_vp(ax, im, lines, vp):\n",
    "    \"\"\"\n",
    "    Plots user-input lines and the calculated vanishing point.\n",
    "    Inputs:\n",
    "        im: np.ndarray of shape (height, width, 3)\n",
    "        lines: np.ndarray of shape (3, n)\n",
    "            where each column denotes the parameters of the line equation\n",
    "        vp: np.ndarray of shape (3, )\n",
    "    \"\"\"\n",
    "    bx1 = min(1, vp[0] / vp[2]) - 10\n",
    "    bx2 = max(im.shape[1], vp[0] / vp[2]) + 10\n",
    "    by1 = min(1, vp[1] / vp[2]) - 10\n",
    "    by2 = max(im.shape[0], vp[1] / vp[2]) + 10\n",
    "    \n",
    "    ax.imshow(im)\n",
    "    for i in range(lines.shape[1]):\n",
    "        if lines[0, i] < lines[1, i]:\n",
    "            pt1 = np.cross(np.array([1, 0, -bx1]), lines[:, i])\n",
    "            pt2 = np.cross(np.array([1, 0, -bx2]), lines[:, i])\n",
    "        else:\n",
    "            pt1 = np.cross(np.array([0, 1, -by1]), lines[:, i])\n",
    "            pt2 = np.cross(np.array([0, 1, -by2]), lines[:, i])\n",
    "        pt1 = pt1 / pt1[2]\n",
    "        pt2 = pt2 / pt2[2]\n",
    "        ax.plot([pt1[0], pt2[0]], [pt1[1], pt2[1]], 'g')\n",
    "\n",
    "    ax.plot(vp[0] / vp[2], vp[1] / vp[2], 'ro')\n",
    "    ax.set_xlim([bx1, bx2])\n",
    "    ax.set_ylim([by2, by1])"
   ]
  },
  {
   "cell_type": "markdown",
   "metadata": {},
   "source": [
    "# Your implementation"
   ]
  },
  {
   "cell_type": "code",
   "execution_count": 36,
   "metadata": {},
   "outputs": [],
   "source": [
    "def get_vanishing_point(lines, num):\n",
    "    \"\"\"\n",
    "    Solves for the vanishing point using the user-input lines.\n",
    "    \"\"\"\n",
    "    # <YOUR CODE>\n",
    "    H = np.zeros((num, 3))\n",
    "    for i in range(num):\n",
    "        H[i] = lines[:, i] \n",
    "    U, S, V = np.linalg.svd(H)\n",
    "    \n",
    "    return V[-1] / V[-1, -1]"
   ]
  },
  {
   "cell_type": "code",
   "execution_count": 35,
   "metadata": {},
   "outputs": [],
   "source": [
    "def get_horizon_line(vanish_ptx, vanish_ptz):\n",
    "    \"\"\"\n",
    "    Calculates the ground horizon line.\n",
    "    \"\"\"\n",
    "    line = np.cross(vanish_ptx, vanish_ptz)\n",
    "    scale = np.sqrt(line[0] ** 2 + line[1] ** 2)\n",
    "    line  /= scale\n",
    "    return line"
   ]
  },
  {
   "cell_type": "code",
   "execution_count": 34,
   "metadata": {},
   "outputs": [],
   "source": [
    "def plot_horizon_line(ax, im, vp, horizontal_line):\n",
    "    \"\"\"\n",
    "    Plots the horizon line.\n",
    "    \"\"\"\n",
    "    # <YOUR CODE>\n",
    "    bx1 = min(1, vp[0, 0] / vp[2, 0], vp[0, 2] / vp[2, 2]) - 10\n",
    "    bx2 = max(im.shape[1], vp[0, 0] / vp[2, 0], vp[0, 2] / vp[2, 2]) + 10\n",
    "    by1 = min(1, vp[1, 0] / vp[2, 0], vp[1, 2] / vp[2, 2]) - 10\n",
    "    by2 = max(im.shape[0], vp[1, 0] / vp[2, 0], vp[1, 2] / vp[2, 2]) + 10\n",
    "    ax.imshow(im)\n",
    "    ax.plot(vp[0, 0] / vp[2, 0], vp[1, 0] / vp[2, 0], 'ro', label='Vanish point 1')\n",
    "    ax.plot(vp[0, 2] / vp[2, 2], vp[1, 2] / vp[2, 2], 'ro', label='Vanish point 2')\n",
    "    x_vals = np.array(ax.get_xlim())\n",
    "    y_vals = (-horizontal_line[2] - horizontal_line[0] * x_vals) / horizontal_line[1]\n",
    "    ax.plot(x_vals, y_vals, 'b')\n",
    "    ax.set_xlim([bx1, bx2])\n",
    "    ax.set_ylim([by2, by1])\n"
   ]
  },
  {
   "cell_type": "code",
   "execution_count": 33,
   "metadata": {},
   "outputs": [],
   "source": [
    "def get_camera_parameters(vpts):\n",
    "    \"\"\"\n",
    "    Computes the camera parameters. Hint: The SymPy package is suitable for this.\n",
    "    \"\"\"\n",
    "    # <YOUR CODE>\n",
    "    def get_param_mat(vpti, vptj):\n",
    "        vptix, vptiy = vpti[0] / vpti[2], vpti[1] / vpti[2]\n",
    "        vptjx, vptjy = vptj[0] / vptj[2], vptj[1] / vptj[2]\n",
    "        A = np.array([[vptix * vptjx + vptiy * vptjy, vptix + vptjx, vptiy + vptjy, 1]])\n",
    "        return A\n",
    "    A = np.zeros((3, 4))\n",
    "    A[0] = get_param_mat(vpts[:, 0], vpts[:, 1])\n",
    "    A[1] = get_param_mat(vpts[:, 0], vpts[:, 2])\n",
    "    A[2] = get_param_mat(vpts[:, 1], vpts[:, 2])        \n",
    "    \n",
    "    U, S, V = np.linalg.svd(A)\n",
    "    intrinsic_ele = V[-1] \n",
    "    print(intrinsic_ele)\n",
    "    # f = 1 / np.sqrt(intrinsic_ele[0])\n",
    "    Cx = - intrinsic_ele[1] / intrinsic_ele[0] \n",
    "    Cy = - intrinsic_ele[2] / intrinsic_ele[0] \n",
    "    f = np.sqrt(- (Cx ** 2 + Cy ** 2) + 1 / intrinsic_ele[0])\n",
    "    K = np.array([[f, 0, Cx], [0, f, Cy], [0, 0, 1]])\n",
    "    \n",
    "    return f, Cx, Cy, K\n",
    "    "
   ]
  },
  {
   "cell_type": "code",
   "execution_count": 32,
   "metadata": {},
   "outputs": [],
   "source": [
    "def get_rotation_matrix(K, vpts):\n",
    "    \"\"\"\n",
    "    Computes the rotation matrix using the camera parameters.\n",
    "    \"\"\"\n",
    "    # <YOUR CODE>\n",
    "    R = np.zeros((3, 3))\n",
    "    for i in range(3):\n",
    "        R[:, i] =  (vpts[:, i] @ np.linalg.inv(K)).T\n",
    "        R[:, i] /= np.linalg.norm(R[:, i])\n",
    "    return R "
   ]
  },
  {
   "cell_type": "markdown",
   "metadata": {},
   "source": [
    "# Main function"
   ]
  },
  {
   "cell_type": "code",
   "execution_count": 5,
   "metadata": {},
   "outputs": [],
   "source": [
    "im = np.asarray(Image.open('./city.jpg'))\n",
    "\n",
    "# Also loads the vanishing line data if it exists in data.pickle file. \n",
    "# data.pickle is written using snippet in the next cell.\n",
    "if os.path.exists('./data.pickle'):\n",
    "    with open('./data.pickle', 'rb') as f:\n",
    "        all_n, all_lines, all_centers = pickle.load(f)\n",
    "    num_vpts = 3"
   ]
  },
  {
   "cell_type": "code",
   "execution_count": 11,
   "metadata": {},
   "outputs": [
    {
     "name": "stdout",
     "output_type": "stream",
     "text": [
      "Getting vanishing point 0\n",
      "Set at least 3 lines to compute vanishing point\n",
      "The delete and backspace keys act like right clicking\n",
      "The enter key acts like middle clicking\n",
      "Click the two endpoints, use the right button (delete and backspace keys) to undo, and use the middle button to stop input\n",
      "Click the two endpoints, use the right button (delete and backspace keys) to undo, and use the middle button to stop input\n",
      "Click the two endpoints, use the right button (delete and backspace keys) to undo, and use the middle button to stop input\n",
      "Click the two endpoints, use the right button (delete and backspace keys) to undo, and use the middle button to stop input\n",
      "Click the two endpoints, use the right button (delete and backspace keys) to undo, and use the middle button to stop input\n",
      "Getting vanishing point 1\n",
      "Set at least 3 lines to compute vanishing point\n",
      "The delete and backspace keys act like right clicking\n",
      "The enter key acts like middle clicking\n",
      "Click the two endpoints, use the right button (delete and backspace keys) to undo, and use the middle button to stop input\n",
      "Click the two endpoints, use the right button (delete and backspace keys) to undo, and use the middle button to stop input\n",
      "Click the two endpoints, use the right button (delete and backspace keys) to undo, and use the middle button to stop input\n",
      "Click the two endpoints, use the right button (delete and backspace keys) to undo, and use the middle button to stop input\n",
      "Click the two endpoints, use the right button (delete and backspace keys) to undo, and use the middle button to stop input\n",
      "Getting vanishing point 2\n",
      "Set at least 3 lines to compute vanishing point\n",
      "The delete and backspace keys act like right clicking\n",
      "The enter key acts like middle clicking\n",
      "Click the two endpoints, use the right button (delete and backspace keys) to undo, and use the middle button to stop input\n",
      "Click the two endpoints, use the right button (delete and backspace keys) to undo, and use the middle button to stop input\n",
      "Click the two endpoints, use the right button (delete and backspace keys) to undo, and use the middle button to stop input\n",
      "Click the two endpoints, use the right button (delete and backspace keys) to undo, and use the middle button to stop input\n",
      "Click the two endpoints, use the right button (delete and backspace keys) to undo, and use the middle button to stop input\n"
     ]
    }
   ],
   "source": [
    "# Click and save the line data for vanishing points. This snippet \n",
    "# opens up an interface for selecting points and writes them to \n",
    "# data.pickle file. The file is over-written.\n",
    "\n",
    "num_vpts = 3\n",
    "all_n, all_lines, all_centers = [], [], []\n",
    "\n",
    "# for i in range(num_vpts):\n",
    "#     print(f'Getting vanishing point {i}')\n",
    "    \n",
    "#     # Get at least three lines from user input\n",
    "#     n_i, lines_i, centers_i = get_input_lines(im)\n",
    "#     all_n.append(n_i)\n",
    "#     all_lines.append(lines_i)\n",
    "#     all_centers.append(centers_i)\n",
    "\n",
    "# with open('data.pickle', 'wb') as f:\n",
    "#     pickle.dump([all_n, all_lines, all_centers], f)"
   ]
  },
  {
   "cell_type": "code",
   "execution_count": 12,
   "metadata": {},
   "outputs": [
    {
     "name": "stdout",
     "output_type": "stream",
     "text": [
      "axis: 0\n",
      "Line 0: (3, 4) [   -29.11290323     88.87096774 -17638.46514048]; center: [232.40322581 274.60483871   1.        ]\n",
      "Line 1: (3, 4) [  -114.91935484    289.59677419 -68175.27705515]; center: [334.2983871  368.07258065   1.        ]\n",
      "Line 2: (3, 4) [   -16.85483871     91.93548387 -16450.05072841]; center: [229.33870968 220.97580645   1.        ]\n",
      "Line 3: (3, 4) [  -142.5           281.93548387 -73305.94432882]; center: [335.06451613 429.36290323   1.        ]\n",
      "axis: 1\n",
      "Line 0: (3, 4) [-1.71612903e+02  6.12903226e+00  4.58495109e+04]; center: [278.37096774 313.67741935   1.        ]\n",
      "Line 1: (3, 4) [-1.57822581e+02  7.66129032e+00  3.76045044e+04]; center: [253.08870968 305.25         1.        ]\n",
      "Line 2: (3, 4) [-1.51693548e+02  1.22580645e+01  3.09276899e+04]; center: [227.80645161 296.05645161   1.        ]\n",
      "Line 3: (3, 4) [-1.44032258e+02  6.12903226e+00  2.79306920e+04]; center: [206.35483871 292.22580645   1.        ]\n",
      "axis: 2\n",
      "Line 0: (3, 4) [ 8.58064516e+01  1.17983871e+02 -9.16277966e+04]; center: [539.62096774 384.16129032   1.        ]\n",
      "Line 1: (3, 4) [ 1.22580645e+01  2.60483871e+01 -1.47901951e+04]; center: [585.58870968 292.22580645   1.        ]\n",
      "Line 2: (3, 4) [ 9.19354839e+00  2.91129032e+01 -1.20904058e+04]; center: [588.65322581 229.40322581   1.        ]\n",
      "Line 3: (3, 4) [ 1.04193548e+02  1.13387097e+02 -1.06667750e+05]; center: [537.32258065 446.98387097   1.        ]\n"
     ]
    }
   ],
   "source": [
    "for k in range(3):\n",
    "    num = all_n[k]\n",
    "    print(\"axis:\", k)\n",
    "    for i in range(num):\n",
    "        print(f'Line {i}: {all_lines[k].shape} {all_lines[k][:, i]}; center: {all_centers[k][:, i]}')"
   ]
  },
  {
   "cell_type": "code",
   "execution_count": 13,
   "metadata": {},
   "outputs": [],
   "source": [
    "# Part (1)\n",
    "# Computing vanishing points for each of the directions\n",
    "vpts = np.zeros((3, num_vpts))\n",
    "\n",
    "for i in range(num_vpts):\n",
    "    fig = plt.figure(); ax = fig.gca()\n",
    "    \n",
    "    # <YOUR CODE> Solve for vanishing point\n",
    "    vpts[:, i] = get_vanishing_point(all_lines[i], all_n[i])\n",
    "    \n",
    "    # Plot the lines and the vanishing point\n",
    "    plot_lines_and_vp(ax, im, all_lines[i], vpts[:, i])\n",
    "    fig.savefig('Q3_vp{:d}.png'.format(i), bbox_inches='tight')"
   ]
  },
  {
   "cell_type": "code",
   "execution_count": 14,
   "metadata": {},
   "outputs": [],
   "source": [
    "# Part (2) Computing and plotting the horizon\n",
    "# <YOUR CODE> Get the ground horizon line\n",
    "horizon_line = get_horizon_line(vpts[:, 0], vpts[:, 2])\n",
    "\n",
    "# <YOUR CODE> Plot the ground horizon line\n",
    "fig = plt.figure(); ax = fig.gca()\n",
    "plot_horizon_line(ax, im, vpts, horizon_line)\n",
    "fig.savefig('Q3_horizon.png', bbox_inches='tight')"
   ]
  },
  {
   "cell_type": "code",
   "execution_count": 69,
   "metadata": {},
   "outputs": [
    {
     "name": "stdout",
     "output_type": "stream",
     "text": [
      "[ 1.87336099e-06 -8.08721643e-04 -4.69475120e-04  9.99999563e-01]\n",
      "431.69557101058683 250.60579448786265 533.5125280980743\n",
      "[[533.5125281    0.         431.69557101]\n",
      " [  0.         533.5125281  250.60579449]\n",
      " [  0.           0.           1.        ]]\n"
     ]
    }
   ],
   "source": [
    "# Part (3) Computing Camera Parameters\n",
    "# <YOUR CODE> Solve for the camera parameters (f, u, v)\n",
    "f, u, v, K = get_camera_parameters(vpts)\n",
    "print(u, v, f)\n",
    "print(K)"
   ]
  },
  {
   "cell_type": "code",
   "execution_count": 53,
   "metadata": {},
   "outputs": [
    {
     "name": "stdout",
     "output_type": "stream",
     "text": [
      "[[-3.20701562e-03  4.25035914e-04  2.10473943e-03]\n",
      " [ 1.56971287e-03  3.26142442e-03  3.71824181e-04]\n",
      " [ 9.99993626e-01 -9.99994591e-01 -9.99997716e-01]]\n"
     ]
    }
   ],
   "source": [
    "# Part (4) Computing Rotation Matrices\n",
    "# <YOUR CODE> Solve for the rotation matrix\n",
    "R = get_rotation_matrix(K, vpts)\n",
    "print(R)"
   ]
  },
  {
   "cell_type": "markdown",
   "metadata": {},
   "source": [
    "## Extra Credits"
   ]
  },
  {
   "cell_type": "code",
   "execution_count": 46,
   "metadata": {},
   "outputs": [],
   "source": [
    "def detect_lines(img):\n",
    "    gray = cv2.cvtColor(img, cv2.COLOR_BGR2GRAY)\n",
    "    BlurGrayImage = cv2.GaussianBlur(gray, (5, 5), 1)\n",
    "    # Generating Edge image\n",
    "    EdgeImage = cv2.Canny(BlurGrayImage, 40, 255)\n",
    "    # Create Line Segment Detector\n",
    "    lsd = cv2.createLineSegmentDetector(0)\n",
    "\n",
    "    # Detect line segments\n",
    "    dlines = lsd.detect(EdgeImage)[0]\n",
    "    detected_lines = [np.zeros((3, 0))] * 3\n",
    "\n",
    "    # Draw lines on the image\n",
    "    if dlines is not None:\n",
    "        for dline in dlines:\n",
    "            x1, y1, x2, y2 = map(int, dline.flatten())\n",
    "            angle = np.arctan2(y2 - y1, x2 - x1) * 180.0 / np.pi\n",
    "            length = np.sqrt((y2 - y1)**2 + (x2 - x1)**2)\n",
    "            if length > 40:\n",
    "                pt1 = np.array([x1, y1, 1])\n",
    "                pt2 = np.array([x2, y2, 1])\n",
    "                line = np.cross(pt1, pt2).reshape((3, 1))\n",
    "                if angle > 0 and angle < 30:\n",
    "                    if detected_lines[0].shape[1] < 5:\n",
    "                        detected_lines[0] = np.append(detected_lines[0], line, axis=1)\n",
    "                elif (angle < 95 and angle > 85) or (angle > -95 and angle < -85):\n",
    "                    if detected_lines[1].shape[1] < 5:\n",
    "                        detected_lines[1] = np.append(detected_lines[1], line, axis=1)\n",
    "                elif  (angle < -20 and angle > -50):\n",
    "                    if detected_lines[2].shape[1] < 5:\n",
    "                        detected_lines[2] = np.append(detected_lines[2], line, axis=1)\n",
    "    return detected_lines"
   ]
  },
  {
   "cell_type": "code",
   "execution_count": 47,
   "metadata": {},
   "outputs": [],
   "source": [
    "img = cv2.imread('./city.jpg')\n",
    "detected_lines = detect_lines(img)"
   ]
  },
  {
   "cell_type": "code",
   "execution_count": 48,
   "metadata": {},
   "outputs": [],
   "source": [
    "vpts_new = np.zeros((3, num_vpts))\n",
    "\n",
    "for i in range(num_vpts):\n",
    "    fig = plt.figure(); ax = fig.gca()\n",
    "    \n",
    "    # <YOUR CODE> Solve for vanishing point\n",
    "    vpts_new[:, i] = get_vanishing_point(detected_lines[i], detected_lines[i].shape[1])\n",
    "    \n",
    "    # Plot the lines and the vanishing point\n",
    "    plot_lines_and_vp(ax, img, detected_lines[i], vpts_new[:, i])\n",
    "    fig.savefig('Q3_extra_vp{:d}.png'.format(i), bbox_inches='tight')"
   ]
  }
 ],
 "metadata": {
  "kernelspec": {
   "display_name": "Python 3 (ipykernel)",
   "language": "python",
   "name": "python3"
  },
  "language_info": {
   "codemirror_mode": {
    "name": "ipython",
    "version": 3
   },
   "file_extension": ".py",
   "mimetype": "text/x-python",
   "name": "python",
   "nbconvert_exporter": "python",
   "pygments_lexer": "ipython3",
   "version": "3.9.18"
  }
 },
 "nbformat": 4,
 "nbformat_minor": 4
}
